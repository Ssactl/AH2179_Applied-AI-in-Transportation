{
  "nbformat": 4,
  "nbformat_minor": 0,
  "metadata": {
    "colab": {
      "provenance": [],
      "gpuType": "T4",
      "authorship_tag": "ABX9TyNO9O57Z0FW3mKqbh68THx/",
      "include_colab_link": true
    },
    "kernelspec": {
      "name": "python3",
      "display_name": "Python 3"
    },
    "language_info": {
      "name": "python"
    },
    "accelerator": "GPU"
  },
  "cells": [
    {
      "cell_type": "markdown",
      "metadata": {
        "id": "view-in-github",
        "colab_type": "text"
      },
      "source": [
        "<a href=\"https://colab.research.google.com/github/Ssactl/AH2179_Applied-AI-in-Transportation/blob/main/Module7_Assignment.ipynb\" target=\"_parent\"><img src=\"https://colab.research.google.com/assets/colab-badge.svg\" alt=\"Open In Colab\"/></a>"
      ]
    },
    {
      "cell_type": "code",
      "execution_count": 1,
      "metadata": {
        "id": "VMC8ePqeVk_N"
      },
      "outputs": [],
      "source": [
        "import pandas as pd\n",
        "from sklearn.model_selection import train_test_split\n",
        "%matplotlib inline\n",
        "import matplotlib.pyplot as plt\n",
        "import seaborn as sns\n",
        "from tensorflow.keras.models import Sequential\n",
        "from tensorflow.keras.layers import Dense\n",
        "from tensorflow.keras.layers import Dropout\n",
        "from tensorflow.keras.callbacks import EarlyStopping, ReduceLROnPlateau, ModelCheckpoint\n",
        "from keras.models import load_model\n",
        "from sklearn.linear_model import LinearRegression\n",
        "from sklearn.metrics import mean_absolute_error, mean_squared_error, r2_score\n",
        "filepath=\"\"\n"
      ]
    },
    {
      "cell_type": "code",
      "source": [
        "#-------------------------------------------------data preprocessing------------------------------------------------------------------\n",
        "\n",
        "# Define the URL of a CSV file containing data.\n",
        "url = 'https://raw.githubusercontent.com/zhenliangma/Applied-AI-in-Transportation/master/Exercise_7_Neural_networks/Exercise7data.csv'\n",
        "\n",
        "# Read the CSV data from the specified URL into a DataFrame (assuming you have the pandas library imported as 'pd').\n",
        "df = pd.read_csv(url)\n",
        "\n",
        "# Limit the DataFrame to the first 1000 rows (selecting a subset of the data).\n",
        "df = df.iloc[:1000]\n",
        "\n",
        "# Drop specific columns (Arrival_time, Stop_id, Bus_id, Line_id) from the DataFrame.\n",
        "df = df.drop(['Arrival_time', 'Stop_id', 'Bus_id', 'Line_id'], axis=1)\n",
        "\n",
        "# Extract the features (input variables) by dropping the 'Arrival_delay' column.\n",
        "x = df.drop(['Arrival_delay'], axis=1)\n",
        "\n",
        "# Extract the target variable ('Arrival_delay') as the variable to predict.\n",
        "y = df['Arrival_delay']\n",
        "\n",
        "# splite the train and test data\n",
        "X_train, X_test, y_train, y_test = train_test_split(x, y, test_size=0.2, random_state=42)"
      ],
      "metadata": {
        "id": "OwtJgsIdhKdo"
      },
      "execution_count": 2,
      "outputs": []
    },
    {
      "cell_type": "code",
      "source": [
        "from itertools import product\n",
        "\n",
        "layer_list=[1,2]\n",
        "\n",
        "size_list=[32,64]\n",
        "activ_list=['relu','sigmoid','tanh']\n",
        "param_list=list(product(size_list,activ_list))\n",
        "print(param_list)"
      ],
      "metadata": {
        "colab": {
          "base_uri": "https://localhost:8080/"
        },
        "id": "m1l-BD4nyrNn",
        "outputId": "c32a4f78-29db-4254-a76d-70f7804ad4c5"
      },
      "execution_count": 3,
      "outputs": [
        {
          "output_type": "stream",
          "name": "stdout",
          "text": [
            "[(32, 'relu'), (32, 'sigmoid'), (32, 'tanh'), (64, 'relu'), (64, 'sigmoid'), (64, 'tanh')]\n"
          ]
        }
      ]
    },
    {
      "cell_type": "code",
      "source": [
        "import sys\n",
        "\n",
        "NN_results=pd.DataFrame(columns=['layer1','layer2','mae','mse','r2'])\n",
        "\n",
        "for layers in layer_list:\n",
        "  model=Sequential()\n",
        "  best_result={'layer1':None,'layer2':None,'layer3':None,'mae':sys.maxsize,'mse':sys.maxsize,'r2':-sys.maxsize-1}\n",
        "  for param in product(param_list,repeat=layers):\n",
        "    for l in range(0,layers):\n",
        "      model.add(Dense(param[l][0], activation=param[l][1]))\n",
        "    model.add(Dense(1))\n",
        "    model.compile(optimizer='adam', loss='mae', metrics=['mae'])\n",
        "    hist = model.fit(X_train, y_train, validation_split=0.2, epochs=50, batch_size=32,verbose=0)\n",
        "    # Use the trained model to predict on the test data.\n",
        "    y_pred = model.predict(X_test)\n",
        "    # Calculate Mean Absolute Error (MAE), Mean Squared Error (MSE), and R-squared (R2) for the predictions.\n",
        "    mae = mean_absolute_error(y_test, y_pred)\n",
        "    mse = mean_squared_error(y_test, y_pred)\n",
        "    r2 = r2_score(y_test, y_pred)\n",
        "\n",
        "    if mse<best_result['mse']:\n",
        "      for k in range(1,layers+1):\n",
        "        best_result['layer'+str(k)]=param[k-1]\n",
        "      best_result['mae']=mae\n",
        "      best_result['mse']=mse\n",
        "      best_result['r2']=r2\n",
        "\n",
        "  print(layers)\n",
        "  print(best_result)"
      ],
      "metadata": {
        "colab": {
          "base_uri": "https://localhost:8080/"
        },
        "id": "bmqtyh5B617G",
        "outputId": "2f97c362-c66b-4afb-cdd4-6377108849c9"
      },
      "execution_count": 4,
      "outputs": [
        {
          "output_type": "stream",
          "name": "stdout",
          "text": [
            "7/7 [==============================] - 0s 2ms/step\n",
            "7/7 [==============================] - 0s 2ms/step\n",
            "7/7 [==============================] - 0s 3ms/step\n",
            "7/7 [==============================] - 0s 2ms/step\n",
            "7/7 [==============================] - 0s 2ms/step\n",
            "7/7 [==============================] - 0s 3ms/step\n",
            "1\n",
            "{'layer1': (32, 'relu'), 'layer2': None, 'layer3': None, 'mae': 28.148973250389098, 'mse': 1431.4467803006328, 'r2': 0.8786702877550542}\n",
            "7/7 [==============================] - 0s 2ms/step\n",
            "7/7 [==============================] - 0s 2ms/step\n",
            "7/7 [==============================] - 0s 2ms/step\n",
            "7/7 [==============================] - 0s 2ms/step\n",
            "7/7 [==============================] - 0s 3ms/step\n",
            "7/7 [==============================] - 0s 3ms/step\n",
            "7/7 [==============================] - 0s 3ms/step\n",
            "7/7 [==============================] - 0s 3ms/step\n",
            "7/7 [==============================] - 0s 3ms/step\n",
            "7/7 [==============================] - 0s 4ms/step\n",
            "7/7 [==============================] - 0s 3ms/step\n",
            "7/7 [==============================] - 0s 3ms/step\n",
            "7/7 [==============================] - 0s 3ms/step\n",
            "7/7 [==============================] - 0s 3ms/step\n",
            "7/7 [==============================] - 0s 3ms/step\n",
            "7/7 [==============================] - 0s 4ms/step\n",
            "7/7 [==============================] - 0s 4ms/step\n",
            "7/7 [==============================] - 0s 4ms/step\n",
            "7/7 [==============================] - 0s 3ms/step\n",
            "7/7 [==============================] - 0s 5ms/step\n",
            "7/7 [==============================] - 0s 4ms/step\n",
            "7/7 [==============================] - 0s 5ms/step\n",
            "7/7 [==============================] - 1s 4ms/step\n",
            "7/7 [==============================] - 1s 5ms/step\n",
            "7/7 [==============================] - 1s 4ms/step\n",
            "7/7 [==============================] - 1s 6ms/step\n",
            "7/7 [==============================] - 1s 5ms/step\n",
            "7/7 [==============================] - 1s 5ms/step\n",
            "7/7 [==============================] - 1s 5ms/step\n",
            "7/7 [==============================] - 1s 5ms/step\n",
            "7/7 [==============================] - 1s 5ms/step\n",
            "7/7 [==============================] - 1s 5ms/step\n",
            "7/7 [==============================] - 1s 5ms/step\n",
            "7/7 [==============================] - 1s 5ms/step\n",
            "7/7 [==============================] - 1s 6ms/step\n",
            "7/7 [==============================] - 1s 5ms/step\n",
            "2\n",
            "{'layer1': (32, 'relu'), 'layer2': (32, 'relu'), 'layer3': None, 'mae': 28.104820039272308, 'mse': 1459.7287461463338, 'r2': 0.8762731027356715}\n"
          ]
        }
      ]
    }
  ]
}